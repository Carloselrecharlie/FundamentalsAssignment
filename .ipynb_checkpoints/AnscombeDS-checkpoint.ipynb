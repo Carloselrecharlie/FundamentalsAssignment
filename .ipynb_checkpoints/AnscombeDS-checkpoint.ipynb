{
 "cells": [
  {
   "cell_type": "markdown",
   "metadata": {},
   "source": [
    "<img style=\"float: right;\" src=\"https://upload.wikimedia.org/wikipedia/en/d/d5/Francis_Anscombe.jpeg\"> \n",
    "\n",
    "# Assignment on Anscombe's Data Set\n",
    "### Carlos Montes\n",
    "#### November 2018\n",
    "\n",
    "This data sheet represents a famous example in which a British statistician called Francis John Anscombe, whose picture is on the right of this page, showed in 1973 that very different bivariate scatter plots can produce the same summary statistics and bivariate regression line. \n",
    "\n",
    "Frank became interested in statistical computing and stressed that \"a computer should make both calculations and graphs\", and illustrated the importance of graphing data with four data sets now known as Anscombe's quartet. \n",
    "\n",
    "It is not known how Anscombe created his datasets. Since its publication, several methods to generate similar data sets with identical statistics and dissimilar graphics have been developed\n",
    "\n",
    "In the box below I input these sets but I will also handle them from a .csv file to show two different ways of accessing data. Note that the x values are the same for the first three datasets."
   ]
  },
  {
   "cell_type": "code",
   "execution_count": 1,
   "metadata": {},
   "outputs": [],
   "source": [
    "x1 = [10.0, 8.0,  13.0,  9.0,  11.0, 14.0, 6.0,  4.0,  12.0,  7.0,  5.0]\n",
    "y1 = [8.04, 6.95, 7.58,  8.81, 8.33, 9.96, 7.24, 4.26, 10.84, 4.82, 5.68]\n",
    "\n",
    "x2 = [10.0, 8.0,  13.0,  9.0,  11.0, 14.0, 6.0,  4.0,  12.0,  7.0,  5.0]\n",
    "y2 = [9.14, 8.14, 8.74,  8.77, 9.26, 8.10, 6.13, 3.10, 9.13,  7.26, 4.74]\n",
    "\n",
    "x3 = [10.0, 8.0,  13.0,  9.0,  11.0, 14.0, 6.0,  4.0,  12.0,  7.0,  5.0]\n",
    "y3 = [7.46, 6.77, 12.74, 7.11, 7.81, 8.84, 6.08, 5.39, 8.15,  6.42, 5.73]\n",
    "\n",
    "x4 = [8.0,  8.0,  8.0,   8.0,  8.0,  8.0,  8.0,  19.0,  8.0,  8.0,  8.0]\n",
    "y4 = [6.58, 5.76, 7.71,  8.84, 8.47, 7.04, 5.25, 12.50, 5.56, 7.91, 6.89]"
   ]
  },
  {
   "cell_type": "code",
   "execution_count": 2,
   "metadata": {},
   "outputs": [
    {
     "name": "stdout",
     "output_type": "stream",
     "text": [
      "The means are:\n",
      "(x1,y1) = ( 9.0 , 7.50 );   (x2,y2) = ( 9.0 , 7.50 );\n",
      "(x3,y3) = ( 9.0 , 7.5  );   (x4,y4) = ( 9.0 , 7.50 )\n"
     ]
    }
   ],
   "source": [
    "# First I'll calculate the simple descriptive statistics as a first approach\n",
    "\n",
    "import numpy as np\n",
    "\n",
    "# These are the means\n",
    "meanx1 = np.mean(x1)\n",
    "meanx2 = np.mean(x2)\n",
    "meanx3 = np.mean(x3)\n",
    "meanx4 = np.mean(x4)\n",
    "\n",
    "meany1 = np.mean(y1)\n",
    "meany2 = np.mean(y2)\n",
    "meany3 = np.mean(y3)\n",
    "meany4 = np.mean(y4)\n",
    "\n",
    "print(\"The means are:\")\n",
    "print(\"(x1,y1) = (\",meanx1,\", \"'{0:.2f}'.format(meany1),\");   (x2,y2) = (\",meanx2,\", \"'{0:.2f}'.format(meany2), \");\")\n",
    "print(\"(x3,y3) = (\",meanx3,\",\",meany3,\" );   (x4,y4) = (\",meanx4,\", \"'{0:.2f}'.format(meany4),\")\")"
   ]
  },
  {
   "cell_type": "markdown",
   "metadata": {},
   "source": [
    "* **The values of the means are the same**. Now we calculare the variances:"
   ]
  },
  {
   "cell_type": "code",
   "execution_count": 3,
   "metadata": {
    "scrolled": true
   },
   "outputs": [
    {
     "name": "stdout",
     "output_type": "stream",
     "text": [
      "The variances are:\n",
      "(x1,y1) = ( 10.0 , 3.75 );   (x2,y2) = ( 10.0 , 3.75 );\n",
      "(x3,y3) = ( 10.0 , 3.75 );   (x4,y4) = ( 10.0 , 3.75 )\n"
     ]
    }
   ],
   "source": [
    "variancex1 = np.var(x1)\n",
    "variancex2 = np.var(x2)\n",
    "variancex3 = np.var(x3)\n",
    "variancex4 = np.var(x4)\n",
    "\n",
    "variancey1 = np.var(y1)\n",
    "variancey2 = np.var(y2)\n",
    "variancey3 = np.var(y3)\n",
    "variancey4 = np.var(y4)\n",
    "\n",
    "print(\"The variances are:\")\n",
    "print(\"(x1,y1) = (\",variancex1,\", \"'{0:.2f}'.format(variancey1),\");   (x2,y2) = (\",variancex2,\", \"'{0:.2f}'.format(variancey2), \");\")\n",
    "print(\"(x3,y3) = (\",variancex3,\", \"'{0:.2f}'.format(variancey3), \");   (x4,y4) = (\",variancex4,\", \"'{0:.2f}'.format(variancey4), \")\")"
   ]
  },
  {
   "cell_type": "markdown",
   "metadata": {},
   "source": [
    "* **We see that the values of the variances from the four pairs of data sets match**. Let's have a look at the correlation: "
   ]
  },
  {
   "cell_type": "code",
   "execution_count": 4,
   "metadata": {},
   "outputs": [
    {
     "data": {
      "text/html": [
       "<div>\n",
       "<style scoped>\n",
       "    .dataframe tbody tr th:only-of-type {\n",
       "        vertical-align: middle;\n",
       "    }\n",
       "\n",
       "    .dataframe tbody tr th {\n",
       "        vertical-align: top;\n",
       "    }\n",
       "\n",
       "    .dataframe thead th {\n",
       "        text-align: right;\n",
       "    }\n",
       "</style>\n",
       "<table border=\"1\" class=\"dataframe\">\n",
       "  <thead>\n",
       "    <tr style=\"text-align: right;\">\n",
       "      <th></th>\n",
       "      <th>x1</th>\n",
       "      <th>x2</th>\n",
       "      <th>x3</th>\n",
       "      <th>x4</th>\n",
       "      <th>y1</th>\n",
       "      <th>y2</th>\n",
       "      <th>y3</th>\n",
       "      <th>y4</th>\n",
       "    </tr>\n",
       "  </thead>\n",
       "  <tbody>\n",
       "    <tr>\n",
       "      <th>0</th>\n",
       "      <td>10</td>\n",
       "      <td>10</td>\n",
       "      <td>10</td>\n",
       "      <td>8</td>\n",
       "      <td>8.04</td>\n",
       "      <td>9.14</td>\n",
       "      <td>7.46</td>\n",
       "      <td>6.58</td>\n",
       "    </tr>\n",
       "    <tr>\n",
       "      <th>1</th>\n",
       "      <td>8</td>\n",
       "      <td>8</td>\n",
       "      <td>8</td>\n",
       "      <td>8</td>\n",
       "      <td>6.95</td>\n",
       "      <td>8.14</td>\n",
       "      <td>6.77</td>\n",
       "      <td>5.76</td>\n",
       "    </tr>\n",
       "    <tr>\n",
       "      <th>2</th>\n",
       "      <td>13</td>\n",
       "      <td>13</td>\n",
       "      <td>13</td>\n",
       "      <td>8</td>\n",
       "      <td>7.58</td>\n",
       "      <td>8.74</td>\n",
       "      <td>12.74</td>\n",
       "      <td>7.71</td>\n",
       "    </tr>\n",
       "    <tr>\n",
       "      <th>3</th>\n",
       "      <td>9</td>\n",
       "      <td>9</td>\n",
       "      <td>9</td>\n",
       "      <td>8</td>\n",
       "      <td>8.81</td>\n",
       "      <td>8.77</td>\n",
       "      <td>7.11</td>\n",
       "      <td>8.84</td>\n",
       "    </tr>\n",
       "    <tr>\n",
       "      <th>4</th>\n",
       "      <td>11</td>\n",
       "      <td>11</td>\n",
       "      <td>11</td>\n",
       "      <td>8</td>\n",
       "      <td>8.33</td>\n",
       "      <td>9.26</td>\n",
       "      <td>7.81</td>\n",
       "      <td>8.47</td>\n",
       "    </tr>\n",
       "    <tr>\n",
       "      <th>5</th>\n",
       "      <td>14</td>\n",
       "      <td>14</td>\n",
       "      <td>14</td>\n",
       "      <td>8</td>\n",
       "      <td>9.96</td>\n",
       "      <td>8.10</td>\n",
       "      <td>8.84</td>\n",
       "      <td>7.04</td>\n",
       "    </tr>\n",
       "    <tr>\n",
       "      <th>6</th>\n",
       "      <td>6</td>\n",
       "      <td>6</td>\n",
       "      <td>6</td>\n",
       "      <td>8</td>\n",
       "      <td>7.24</td>\n",
       "      <td>6.13</td>\n",
       "      <td>6.08</td>\n",
       "      <td>5.25</td>\n",
       "    </tr>\n",
       "    <tr>\n",
       "      <th>7</th>\n",
       "      <td>4</td>\n",
       "      <td>4</td>\n",
       "      <td>4</td>\n",
       "      <td>19</td>\n",
       "      <td>4.26</td>\n",
       "      <td>3.10</td>\n",
       "      <td>5.39</td>\n",
       "      <td>12.50</td>\n",
       "    </tr>\n",
       "    <tr>\n",
       "      <th>8</th>\n",
       "      <td>12</td>\n",
       "      <td>12</td>\n",
       "      <td>12</td>\n",
       "      <td>8</td>\n",
       "      <td>10.84</td>\n",
       "      <td>9.13</td>\n",
       "      <td>8.15</td>\n",
       "      <td>5.56</td>\n",
       "    </tr>\n",
       "    <tr>\n",
       "      <th>9</th>\n",
       "      <td>7</td>\n",
       "      <td>7</td>\n",
       "      <td>7</td>\n",
       "      <td>8</td>\n",
       "      <td>4.82</td>\n",
       "      <td>7.26</td>\n",
       "      <td>6.42</td>\n",
       "      <td>7.91</td>\n",
       "    </tr>\n",
       "    <tr>\n",
       "      <th>10</th>\n",
       "      <td>5</td>\n",
       "      <td>5</td>\n",
       "      <td>5</td>\n",
       "      <td>8</td>\n",
       "      <td>5.68</td>\n",
       "      <td>4.74</td>\n",
       "      <td>5.73</td>\n",
       "      <td>6.89</td>\n",
       "    </tr>\n",
       "  </tbody>\n",
       "</table>\n",
       "</div>"
      ],
      "text/plain": [
       "    x1  x2  x3  x4     y1    y2     y3     y4\n",
       "0   10  10  10   8   8.04  9.14   7.46   6.58\n",
       "1    8   8   8   8   6.95  8.14   6.77   5.76\n",
       "2   13  13  13   8   7.58  8.74  12.74   7.71\n",
       "3    9   9   9   8   8.81  8.77   7.11   8.84\n",
       "4   11  11  11   8   8.33  9.26   7.81   8.47\n",
       "5   14  14  14   8   9.96  8.10   8.84   7.04\n",
       "6    6   6   6   8   7.24  6.13   6.08   5.25\n",
       "7    4   4   4  19   4.26  3.10   5.39  12.50\n",
       "8   12  12  12   8  10.84  9.13   8.15   5.56\n",
       "9    7   7   7   8   4.82  7.26   6.42   7.91\n",
       "10   5   5   5   8   5.68  4.74   5.73   6.89"
      ]
     },
     "execution_count": 4,
     "metadata": {},
     "output_type": "execute_result"
    }
   ],
   "source": [
    "# This time I will take the data from a .csv file \n",
    "\n",
    "import pandas as pd\n",
    "\n",
    "# the variable Ads represents Anscombe's data set\n",
    "Ads = pd.read_csv(\"anscombe.csv\")\n",
    "Ads\n",
    "# As we can see this file lists all the xs first and then the ys. Pandas generates a tag index as a first column automatically"
   ]
  },
  {
   "cell_type": "code",
   "execution_count": 5,
   "metadata": {},
   "outputs": [
    {
     "name": "stdout",
     "output_type": "stream",
     "text": [
      "The correlation between both coordinates of the four data sets are:\n",
      "(x1,y1) = 0.816 (x2, y2) = 0.816 (x3, y3) = 0.816 (x4, y4) = 0.817\n"
     ]
    }
   ],
   "source": [
    "# Correlation \n",
    "\n",
    "c1 = Ads['x1'].corr(Ads['y1'])\n",
    "c2 = Ads['x2'].corr(Ads['y2'])\n",
    "c3 = Ads['x3'].corr(Ads['y3'])\n",
    "c4 = Ads['x4'].corr(Ads['y4'])\n",
    "\n",
    "print(\"The correlation between both coordinates of the four data sets are:\")\n",
    "print(\"(x1,y1) =\", '{0:.3f}'.format(c1),\"(x2, y2) =\", '{0:.3f}'.format(c2), \"(x3, y3) =\", '{0:.3f}'.format(c3), \"(x4, y4) =\", '{0:.3f}'.format(c4))\n",
    "\n",
    "# Again we find the same values"
   ]
  },
  {
   "cell_type": "markdown",
   "metadata": {},
   "source": [
    "* **Again, same values of correlations**. Now we can generate the ecuation of the **linear regression line** for every set. In general, any straight line on a 2 dimensional representation follows this pattern: m*x + b, where *m* is the slope and *b* is the y intercept"
   ]
  },
  {
   "cell_type": "code",
   "execution_count": 6,
   "metadata": {},
   "outputs": [
    {
     "name": "stdout",
     "output_type": "stream",
     "text": [
      "The values are:\n",
      "1) m1 = 0.500 ; b1 = 3.000\n",
      "2) m2 = 0.500 ; b2 = 3.001\n",
      "3) m3 = 0.500 ; b3 = 3.002\n",
      "4) m4 = 0.500 ; b4 = 3.002\n"
     ]
    }
   ],
   "source": [
    "m1, b1 = np.polyfit(x1, y1, 1)\n",
    "m2, b2 = np.polyfit(x2, y2, 1)\n",
    "m3, b3 = np.polyfit(x3, y3, 1)\n",
    "m4, b4 = np.polyfit(x4, y4, 1)\n",
    "\n",
    "print(\"The values are:\")\n",
    "print(\"1) m1 =\", '{0:.3f}'.format(m1), \"; b1 =\",'{0:.3f}'.format(b1))\n",
    "print(\"2) m2 =\", '{0:.3f}'.format(m2), \"; b2 =\", '{0:.3f}'.format(b2))\n",
    "print(\"3) m3 =\", '{0:.3f}'.format(m3), \"; b3 =\", '{0:.3f}'.format(b3))\n",
    "print(\"4) m4 =\", '{0:.3f}'.format(m4), \"; b4 =\", '{0:.3f}'.format(b4))\n",
    "\n",
    "# Same outcome, these parameters match"
   ]
  },
  {
   "cell_type": "markdown",
   "metadata": {},
   "source": [
    "Similarly, we get the **same regression line ecuation** for the four data sets: **y = 0.5*x + 3**. We can also consider the **coefficient of determination (R^2)** of the linear regression -adapted from [here](https://stackoverflow.com/questions/893657/how-do-i-calculate-r-squared-using-python-and-numpy) - :"
   ]
  },
  {
   "cell_type": "code",
   "execution_count": 7,
   "metadata": {
    "scrolled": true
   },
   "outputs": [
    {
     "data": {
      "text/plain": [
       "{'polynomial': [0.5000909090909095, 3.0000909090909076],\n",
       " 'determination': 0.6665424595087761}"
      ]
     },
     "execution_count": 7,
     "metadata": {},
     "output_type": "execute_result"
    }
   ],
   "source": [
    "# Polynomial Regression\n",
    "def polyfit(x, y, degree):\n",
    "    results = {}\n",
    "\n",
    "    coeffs = np.polyfit(x, y, degree)\n",
    "\n",
    "     # Polynomial Coefficients\n",
    "    results['polynomial'] = coeffs.tolist()\n",
    "\n",
    "    # r-squared\n",
    "    p = np.poly1d(coeffs)\n",
    "    # fit values, and mean\n",
    "    yhat = p(x)                      \n",
    "    ybar = np.sum(y)/len(y)         \n",
    "    ssreg = np.sum((yhat-ybar)**2)   \n",
    "    sstot = np.sum((y - ybar)**2)    \n",
    "    results['determination'] = ssreg / sstot\n",
    "\n",
    "    return results\n",
    "\n",
    "# R^2 for the first data set\n",
    "polyfit(x1,y1,1)"
   ]
  },
  {
   "cell_type": "code",
   "execution_count": 8,
   "metadata": {},
   "outputs": [
    {
     "data": {
      "text/plain": [
       "{'polynomial': [0.5000000000000004, 3.000909090909089],\n",
       " 'determination': 0.6662420337274852}"
      ]
     },
     "execution_count": 8,
     "metadata": {},
     "output_type": "execute_result"
    }
   ],
   "source": [
    "# R^2 for the second data set\n",
    "polyfit(x2,y2,1)"
   ]
  },
  {
   "cell_type": "code",
   "execution_count": 9,
   "metadata": {},
   "outputs": [
    {
     "data": {
      "text/plain": [
       "{'polynomial': [0.4997272727272731, 3.0024545454545453],\n",
       " 'determination': 0.66632404106656}"
      ]
     },
     "execution_count": 9,
     "metadata": {},
     "output_type": "execute_result"
    }
   ],
   "source": [
    "# R^2 for the third data set\n",
    "polyfit(x3,y3,1)"
   ]
  },
  {
   "cell_type": "code",
   "execution_count": 10,
   "metadata": {},
   "outputs": [
    {
     "data": {
      "text/plain": [
       "{'polynomial': [0.49990909090909064, 3.0017272727272735],\n",
       " 'determination': 0.6667072568984646}"
      ]
     },
     "execution_count": 10,
     "metadata": {},
     "output_type": "execute_result"
    }
   ],
   "source": [
    "# R^2 for the fourth data set\n",
    "polyfit(x4,y4,1)"
   ]
  },
  {
   "cell_type": "markdown",
   "metadata": {},
   "source": [
    "Once again, the **values** of this parameter **R^2 match** (0.666). A value of 1 indicates that the regression predictions perfectly fit the data, which is not the case. \n",
    "###### Then, at first sight, if we only considered these measurements to evaluate and compare  the four data sets, it would make sense to interpret and label them as similar functions, with a similar graphical shape given the similarities. So now let's plot them:"
   ]
  },
  {
   "cell_type": "code",
   "execution_count": 11,
   "metadata": {},
   "outputs": [
    {
     "data": {
      "text/plain": [
       "<Figure size 640x480 with 1 Axes>"
      ]
     },
     "metadata": {},
     "output_type": "display_data"
    }
   ],
   "source": [
    "import matplotlib.pyplot as plt\n",
    "\n",
    "# first plot (data taken from the csv with pandas)\n",
    "x = Ads[\"x1\"]\n",
    "y = Ads[\"y1\"]\n",
    "plt.plot(x,y,\"rx\")\n",
    "plt.xlabel(\"x1\")\n",
    "plt.ylabel(\"y1\")\n",
    "plt.xticks(np.arange(0, 16, step=1))\n",
    "plt.yticks(np.arange(0, 13, step=1))\n",
    "plt.grid()\n",
    "plt.show()"
   ]
  },
  {
   "cell_type": "markdown",
   "metadata": {},
   "source": [
    "This first plot looks like a simple linear relation that follows a normal distribution. It doesn't represent a straight line, reason why its correlation coefficient is relatively far from 1 but still it seems to aim at that."
   ]
  },
  {
   "cell_type": "code",
   "execution_count": 12,
   "metadata": {},
   "outputs": [
    {
     "data": {
      "image/png": "[encoded data removed]",
      "text/plain": [
       "<Figure size 432x288 with 1 Axes>"
      ]
     },
     "metadata": {},
     "output_type": "display_data"
    }
   ],
   "source": [
    "# second plot (data taken from the csv with pandas)\n",
    "x = Ads[\"x2\"]\n",
    "y = Ads[\"y2\"]\n",
    "plt.plot(x,y,\"rx\")\n",
    "plt.xlabel(\"x2\")\n",
    "plt.ylabel(\"y2\")\n",
    "plt.xticks(np.arange(0, 16, step=1))\n",
    "plt.yticks(np.arange(0, 12, step=1))\n",
    "plt.grid()\n",
    "plt.show()"
   ]
  },
  {
   "cell_type": "markdown",
   "metadata": {},
   "source": [
    "Next we see that there is not a linear distribution reason why we can disregard the correlation coefficient. Although the relatioship between the 2 variables looks obvious, this is not a normal one."
   ]
  },
  {
   "cell_type": "code",
   "execution_count": 13,
   "metadata": {},
   "outputs": [
    {
     "data": {
      "image/png": "[encoded data removed]",
      "text/plain": [
       "<Figure size 432x288 with 1 Axes>"
      ]
     },
     "metadata": {},
     "output_type": "display_data"
    }
   ],
   "source": [
    "# third plot (data taken from the cell at the top of the page)\n",
    "plt.plot(x3,y3,\"rx\")\n",
    "plt.xlabel(\"x3\")\n",
    "plt.ylabel(\"y3\")\n",
    "plt.xticks(np.arange(0, 16, step=1))\n",
    "plt.yticks(np.arange(0, 15, step=1))\n",
    "plt.grid()\n",
    "plt.show()"
   ]
  },
  {
   "cell_type": "markdown",
   "metadata": {},
   "source": [
    "The third plot shows a clear lineal distribution but just one of the points is well off the straight line, to such an extend that it lowers the correlation coefficient to 0.86."
   ]
  },
  {
   "cell_type": "code",
   "execution_count": 14,
   "metadata": {},
   "outputs": [
    {
     "data": {
      "image/png": "[encoded data removed]",
      "text/plain": [
       "<Figure size 432x288 with 1 Axes>"
      ]
     },
     "metadata": {},
     "output_type": "display_data"
    }
   ],
   "source": [
    "# fourth plot (data taken from the cell at the top of the page)\n",
    "plt.plot(x4,y4,\"r_\")\n",
    "plt.xlabel(\"x4\")\n",
    "plt.ylabel(\"y4\")\n",
    "plt.xticks(np.arange(0, 21, step=1))\n",
    "plt.yticks(np.arange(0, 15, step=1))\n",
    "plt.grid()\n",
    "plt.show()\n",
    "# This time I chose dashes to represent the coordinate pais because the other markers were less clear for being too close to each other"
   ]
  },
  {
   "cell_type": "markdown",
   "metadata": {},
   "source": [
    "The last set doesn't show an apparent relationship between the variables but the point that is farther from the main group has a surprisingly big impact in the correlation coefficient.\n",
    "\n",
    "##### This way we can conclude that the basic summary statistics are not enough to examine a data set by themselves being essential to plot the graphics so that we can have a more representative idea of the distribution we are facing, if there is one.\n",
    "\n",
    "On the other hand just mention that there is a handy command from panda to get a whole set of stats from a data set as a first step:"
   ]
  },
  {
   "cell_type": "code",
   "execution_count": 15,
   "metadata": {},
   "outputs": [
    {
     "data": {
      "text/html": [
       "<div>\n",
       "<style scoped>\n",
       "    .dataframe tbody tr th:only-of-type {\n",
       "        vertical-align: middle;\n",
       "    }\n",
       "\n",
       "    .dataframe tbody tr th {\n",
       "        vertical-align: top;\n",
       "    }\n",
       "\n",
       "    .dataframe thead th {\n",
       "        text-align: right;\n",
       "    }\n",
       "</style>\n",
       "<table border=\"1\" class=\"dataframe\">\n",
       "  <thead>\n",
       "    <tr style=\"text-align: right;\">\n",
       "      <th></th>\n",
       "      <th>x1</th>\n",
       "      <th>x2</th>\n",
       "      <th>x3</th>\n",
       "      <th>x4</th>\n",
       "      <th>y1</th>\n",
       "      <th>y2</th>\n",
       "      <th>y3</th>\n",
       "      <th>y4</th>\n",
       "    </tr>\n",
       "  </thead>\n",
       "  <tbody>\n",
       "    <tr>\n",
       "      <th>count</th>\n",
       "      <td>11.000000</td>\n",
       "      <td>11.000000</td>\n",
       "      <td>11.000000</td>\n",
       "      <td>11.000000</td>\n",
       "      <td>11.000000</td>\n",
       "      <td>11.000000</td>\n",
       "      <td>11.000000</td>\n",
       "      <td>11.000000</td>\n",
       "    </tr>\n",
       "    <tr>\n",
       "      <th>mean</th>\n",
       "      <td>9.000000</td>\n",
       "      <td>9.000000</td>\n",
       "      <td>9.000000</td>\n",
       "      <td>9.000000</td>\n",
       "      <td>7.500909</td>\n",
       "      <td>7.500909</td>\n",
       "      <td>7.500000</td>\n",
       "      <td>7.500909</td>\n",
       "    </tr>\n",
       "    <tr>\n",
       "      <th>std</th>\n",
       "      <td>3.316625</td>\n",
       "      <td>3.316625</td>\n",
       "      <td>3.316625</td>\n",
       "      <td>3.316625</td>\n",
       "      <td>2.031568</td>\n",
       "      <td>2.031657</td>\n",
       "      <td>2.030424</td>\n",
       "      <td>2.030579</td>\n",
       "    </tr>\n",
       "    <tr>\n",
       "      <th>min</th>\n",
       "      <td>4.000000</td>\n",
       "      <td>4.000000</td>\n",
       "      <td>4.000000</td>\n",
       "      <td>8.000000</td>\n",
       "      <td>4.260000</td>\n",
       "      <td>3.100000</td>\n",
       "      <td>5.390000</td>\n",
       "      <td>5.250000</td>\n",
       "    </tr>\n",
       "    <tr>\n",
       "      <th>25%</th>\n",
       "      <td>6.500000</td>\n",
       "      <td>6.500000</td>\n",
       "      <td>6.500000</td>\n",
       "      <td>8.000000</td>\n",
       "      <td>6.315000</td>\n",
       "      <td>6.695000</td>\n",
       "      <td>6.250000</td>\n",
       "      <td>6.170000</td>\n",
       "    </tr>\n",
       "    <tr>\n",
       "      <th>50%</th>\n",
       "      <td>9.000000</td>\n",
       "      <td>9.000000</td>\n",
       "      <td>9.000000</td>\n",
       "      <td>8.000000</td>\n",
       "      <td>7.580000</td>\n",
       "      <td>8.140000</td>\n",
       "      <td>7.110000</td>\n",
       "      <td>7.040000</td>\n",
       "    </tr>\n",
       "    <tr>\n",
       "      <th>75%</th>\n",
       "      <td>11.500000</td>\n",
       "      <td>11.500000</td>\n",
       "      <td>11.500000</td>\n",
       "      <td>8.000000</td>\n",
       "      <td>8.570000</td>\n",
       "      <td>8.950000</td>\n",
       "      <td>7.980000</td>\n",
       "      <td>8.190000</td>\n",
       "    </tr>\n",
       "    <tr>\n",
       "      <th>max</th>\n",
       "      <td>14.000000</td>\n",
       "      <td>14.000000</td>\n",
       "      <td>14.000000</td>\n",
       "      <td>19.000000</td>\n",
       "      <td>10.840000</td>\n",
       "      <td>9.260000</td>\n",
       "      <td>12.740000</td>\n",
       "      <td>12.500000</td>\n",
       "    </tr>\n",
       "  </tbody>\n",
       "</table>\n",
       "</div>"
      ],
      "text/plain": [
       "              x1         x2         x3         x4         y1         y2  \\\n",
       "count  11.000000  11.000000  11.000000  11.000000  11.000000  11.000000   \n",
       "mean    9.000000   9.000000   9.000000   9.000000   7.500909   7.500909   \n",
       "std     3.316625   3.316625   3.316625   3.316625   2.031568   2.031657   \n",
       "min     4.000000   4.000000   4.000000   8.000000   4.260000   3.100000   \n",
       "25%     6.500000   6.500000   6.500000   8.000000   6.315000   6.695000   \n",
       "50%     9.000000   9.000000   9.000000   8.000000   7.580000   8.140000   \n",
       "75%    11.500000  11.500000  11.500000   8.000000   8.570000   8.950000   \n",
       "max    14.000000  14.000000  14.000000  19.000000  10.840000   9.260000   \n",
       "\n",
       "              y3         y4  \n",
       "count  11.000000  11.000000  \n",
       "mean    7.500000   7.500909  \n",
       "std     2.030424   2.030579  \n",
       "min     5.390000   5.250000  \n",
       "25%     6.250000   6.170000  \n",
       "50%     7.110000   7.040000  \n",
       "75%     7.980000   8.190000  \n",
       "max    12.740000  12.500000  "
      ]
     },
     "execution_count": 15,
     "metadata": {},
     "output_type": "execute_result"
    }
   ],
   "source": [
    "Ads.describe()"
   ]
  },
  {
   "cell_type": "code",
   "execution_count": 16,
   "metadata": {},
   "outputs": [
    {
     "name": "stdout",
     "output_type": "stream",
     "text": [
      "The medians are:\n",
      "(x1,y1) = ( 9.0 ,  7.58 );   (x2,y2) = ( 9.0 ,  8.14 );\n",
      "(x3,y3) = ( 9.0 ,  7.11 );   (x4,y4) = ( 8.0 ,  7.04 )\n"
     ]
    }
   ],
   "source": [
    "# Also, note that not all the parameters from the four data sets are the same but the point of the original article was to claim \n",
    "# the essential rol of data visualization to help the analyst understand the data they are working with. In this regard just show\n",
    "# one example of the parameters that don't match (bear in mind that x1 = x2 = x3)\n",
    "\n",
    "medianx1 = np.median(x1)\n",
    "medianx2 = np.median(x2)\n",
    "medianx3 = np.median(x3)\n",
    "medianx4 = np.median(x4)\n",
    "\n",
    "mediany1 = np.median(y1)\n",
    "mediany2 = np.median(y2)\n",
    "mediany3 = np.median(y3)\n",
    "mediany4 = np.median(y4)\n",
    "\n",
    "print(\"The medians are:\")\n",
    "print(\"(x1,y1) = (\",medianx1,\", \", mediany1,\");   (x2,y2) = (\",medianx2,\", \",mediany2, \");\")\n",
    "print(\"(x3,y3) = (\",medianx3,\", \",mediany3, \");   (x4,y4) = (\",medianx4,\", \",mediany4, \")\")\n"
   ]
  },
  {
   "cell_type": "markdown",
   "metadata": {},
   "source": [
    "## References\n",
    "- General info on the data set [Wikipedia](https://en.wikipedia.org/wiki/Anscombe%27s_quartet)\n",
    "- [matplotlib](https://matplotlib.org)\n",
    "- [numpy](http://www.numpy.org)\n",
    "- Coefficient determination [stattrek](https://stattrek.com/statistics/dictionary.aspx?definition=coefficient_of_determination)\n",
    "- Correlation coefficient [statisticshowto](https://www.statisticshowto.datasciencecentral.com/probability-and-statistics/correlation-coefficient-formula/)\n",
    "- How to calculate R^2 [stackoverflow](https://stackoverflow.com/questions/893657/how-do-i-calculate-r-squared-using-python-and-numpy)\n",
    "- Markdown guide [github](https://guides.github.com/features/mastering-markdown/)"
   ]
  }
 ],
 "metadata": {
  "kernelspec": {
   "display_name": "Python 3",
   "language": "python",
   "name": "python3"
  },
  "language_info": {
   "codemirror_mode": {
    "name": "ipython",
    "version": 3
   },
   "file_extension": ".py",
   "mimetype": "text/x-python",
   "name": "python",
   "nbconvert_exporter": "python",
   "pygments_lexer": "ipython3",
   "version": "3.6.5"
  }
 },
 "nbformat": 4,
 "nbformat_minor": 2
}
