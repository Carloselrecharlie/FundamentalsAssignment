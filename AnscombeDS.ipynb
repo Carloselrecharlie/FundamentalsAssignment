{
 "cells": [
  {
   "cell_type": "markdown",
   "metadata": {},
   "source": [
    "# Assignment on Anscombe's Data Set\n",
    "### Carlos Montes\n",
    "#### Novembre 2018\n",
    "\n",
    "This data sheet represents a famous example in which Francis John Anscombe, an English statistician, showed in 1973 that very different bivariate scatter plots can produce the same summary statistics and bivariate regression line. Frank became interested in statistical computing and stressed that \"a computer should make both calculations and graphs\", and illustrated the importance of graphing data with four data sets now known as Anscombe's quartet. \n",
    "\n",
    "<table><tr><td><img src='https://encrypted-tbn0.gstatic.com/images?q=tbn:ANd9GcRqz6JuHIxeCYCHBt_nUq339NQzekBdC4-LmSHBpiOivFFLWHVm'></td><td><img src='https://upload.wikimedia.org/wikipedia/commons/thumb/e/ec/Anscombe%27s_quartet_3.svg/425px-Anscombe%27s_quartet_3.svg.png'></td></tr></table>\n"
   ]
  },
  {
   "cell_type": "code",
   "execution_count": null,
   "metadata": {},
   "outputs": [],
   "source": []
  }
 ],
 "metadata": {
  "kernelspec": {
   "display_name": "Python 3",
   "language": "python",
   "name": "python3"
  },
  "language_info": {
   "codemirror_mode": {
    "name": "ipython",
    "version": 3
   },
   "file_extension": ".py",
   "mimetype": "text/x-python",
   "name": "python",
   "nbconvert_exporter": "python",
   "pygments_lexer": "ipython3",
   "version": "3.6.5"
  }
 },
 "nbformat": 4,
 "nbformat_minor": 2
}
