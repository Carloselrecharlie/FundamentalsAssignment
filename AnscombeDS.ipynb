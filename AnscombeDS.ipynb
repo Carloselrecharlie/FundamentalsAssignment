{
 "cells": [
  {
   "cell_type": "markdown",
   "metadata": {},
   "source": [
    "# Assignment on Anscombe's Data Set\n",
    "### Carlos Montes\n",
    "#### November 2018\n",
    "\n",
    "This data sheet represents a famous example in which Francis John Anscombe, an English statistician, showed in 1973 that very different bivariate scatter plots can produce the same summary statistics and bivariate regression line. Frank became interested in statistical computing and stressed that \"a computer should make both calculations and graphs\", and illustrated the importance of graphing data with four data sets now known as Anscombe's quartet. "
   ]
  },
  {
   "cell_type": "code",
   "execution_count": 2,
   "metadata": {},
   "outputs": [],
   "source": [
    "x1 = [10.0, 8.0,  13.0,  9.0,  11.0, 14.0, 6.0,  4.0,  12.0,  7.0,  5.0]\n",
    "y1 = [8.04, 6.95, 7.58,  8.81, 8.33, 9.96, 7.24, 4.26, 10.84, 4.82, 5.68]\n",
    "\n",
    "x2 = [10.0, 8.0,  13.0,  9.0,  11.0, 14.0, 6.0,  4.0,  12.0,  7.0,  5.0]\n",
    "y2 = [9.14, 8.14, 8.74,  8.77, 9.26, 8.10, 6.13, 3.10, 9.13,  7.26, 4.74]\n",
    "\n",
    "x3 = [10.0, 8.0,  13.0,  9.0,  11.0, 14.0, 6.0,  4.0,  12.0,  7.0,  5.0]\n",
    "y3 = [7.46, 6.77, 12.74, 7.11, 7.81, 8.84, 6.08, 5.39, 8.15,  6.42, 5.73]\n",
    "\n",
    "x4 = [8.0,  8.0,  8.0,   8.0,  8.0,  8.0,  8.0,  19.0,  8.0,  8.0,  8.0]\n",
    "y4 = [6.58, 5.76, 7.71,  8.84, 8.47, 7.04, 5.25, 12.50, 5.56, 7.91, 6.89]"
   ]
  },
  {
   "cell_type": "code",
   "execution_count": 31,
   "metadata": {},
   "outputs": [
    {
     "name": "stdout",
     "output_type": "stream",
     "text": [
      "The means are (x1,y1) = ( 9.0 , 7.50 );   (x2,y2) = ( 9.0 , 7.50 );   (x3,y3) = ( 9.0 ,  7.5 );   (x4,y4) = ( 9.0 , 7.50 )\n"
     ]
    }
   ],
   "source": [
    "import numpy as np\n",
    "\n",
    "meanx1 = np.mean(x1)\n",
    "meanx2 = np.mean(x2)\n",
    "meanx3 = np.mean(x3)\n",
    "meanx4 = np.mean(x4)\n",
    "\n",
    "meany1 = np.mean(y1)\n",
    "meany2 = np.mean(y2)\n",
    "meany3 = np.mean(y3)\n",
    "meany4 = np.mean(y4)\n",
    "\n",
    "print(\"The means are (x1,y1) = (\",meanx1,\", \"'{0:.2f}'.format(meany1),\");   (x2,y2) = (\",meanx2,\", \"'{0:.2f}'.format(meany2), \");   (x3,y3) = (\",meanx3,\", \", meany3,\");   (x4,y4) = (\",meanx4,\", \"'{0:.2f}'.format(meany4),\")\")"
   ]
  },
  {
   "cell_type": "code",
   "execution_count": 36,
   "metadata": {},
   "outputs": [
    {
     "name": "stdout",
     "output_type": "stream",
     "text": [
      "The medians are (x1,y1) = ( 9.0 ,  7.58 );   (x2,y2) = ( 9.0 ,  8.14 );   (x3,y3) = ( 9.0 ,  7.11 );   (x4,y4) = ( 8.0 ,  7.04 )\n"
     ]
    }
   ],
   "source": [
    "medianx1 = np.median(x1)\n",
    "medianx2 = np.median(x2)\n",
    "medianx3 = np.median(x3)\n",
    "medianx4 = np.median(x4)\n",
    "\n",
    "mediany1 = np.median(y1)\n",
    "mediany2 = np.median(y2)\n",
    "mediany3 = np.median(y3)\n",
    "mediany4 = np.median(y4)\n",
    "\n",
    "print(\"The medians are (x1,y1) = (\",medianx1,\", \", mediany1,\");   (x2,y2) = (\",medianx2,\", \",mediany2, \");   (x3,y3) = (\",medianx3,\", \",mediany3, \");   (x4,y4) = (\",medianx4,\", \",mediany4, \")\")\n"
   ]
  },
  {
   "cell_type": "code",
   "execution_count": 38,
   "metadata": {},
   "outputs": [
    {
     "name": "stdout",
     "output_type": "stream",
     "text": [
      "The variances are (x1,y1) = ( 10.0 ,  3.7520628099173554 );   (x2,y2) = ( 10.0 ,  3.752390082644628 );   (x3,y3) = ( 10.0 ,  3.747836363636364 );   (x4,y4) = ( 10.0 ,  3.7484082644628103 )\n"
     ]
    }
   ],
   "source": [
    "variancex1 = np.var(x1)\n",
    "variancex2 = np.var(x2)\n",
    "variancex3 = np.var(x3)\n",
    "variancex4 = np.var(x4)\n",
    "\n",
    "variancey1 = np.var(y1)\n",
    "variancey2 = np.var(y2)\n",
    "variancey3 = np.var(y3)\n",
    "variancey4 = np.var(y4)\n",
    "\n",
    "print(\"The variances are (x1,y1) = (\",variancex1,\", \", variancey1,\");   (x2,y2) = (\",variancex2,\", \",variancey2, \");   (x3,y3) = (\",variancex3,\", \",variancey3, \");   (x4,y4) = (\",variancex4,\", \",variancey4, \")\")"
   ]
  },
  {
   "cell_type": "code",
   "execution_count": null,
   "metadata": {},
   "outputs": [],
   "source": []
  }
 ],
 "metadata": {
  "kernelspec": {
   "display_name": "Python 3",
   "language": "python",
   "name": "python3"
  },
  "language_info": {
   "codemirror_mode": {
    "name": "ipython",
    "version": 3
   },
   "file_extension": ".py",
   "mimetype": "text/x-python",
   "name": "python",
   "nbconvert_exporter": "python",
   "pygments_lexer": "ipython3",
   "version": "3.6.5"
  }
 },
 "nbformat": 4,
 "nbformat_minor": 2
}
